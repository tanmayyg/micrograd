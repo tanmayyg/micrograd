{
  "nbformat": 4,
  "nbformat_minor": 0,
  "metadata": {
    "colab": {
      "provenance": []
    },
    "kernelspec": {
      "name": "python3",
      "display_name": "Python 3"
    },
    "language_info": {
      "name": "python"
    }
  },
  "cells": [
    {
      "cell_type": "code",
      "execution_count": 160,
      "metadata": {
        "id": "uGJ9lbGXYcTV"
      },
      "outputs": [],
      "source": [
        "import torch\n",
        "import math\n",
        "import matplotlib.pyplot as plt\n"
      ]
    },
    {
      "cell_type": "code",
      "source": [
        "# prompt: I want a code to represent this network of Value nodes that I have created\n",
        "\n",
        "# !pip install graphviz\n",
        "from graphviz import Digraph\n",
        "\n",
        "def trace(root):\n",
        "  # builds a set of all nodes and edges in a graph\n",
        "  nodes, edges = set(), set()\n",
        "  def build(v):\n",
        "    if v not in nodes:\n",
        "      nodes.add(v)\n",
        "      for child in v._prev:\n",
        "        edges.add((child, v))\n",
        "        build(child)\n",
        "  build(root)\n",
        "  return nodes, edges\n",
        "\n",
        "def draw_dot(root):\n",
        "  dot = Digraph(format='svg', graph_attr={'rankdir': 'LR'}) # LR = left to right\n",
        "\n",
        "  nodes, edges = trace(root)\n",
        "  for n in nodes:\n",
        "    uid = str(id(n))\n",
        "    # for any value in the graph, create a rectangular node for it\n",
        "    dot.node(name = uid, label = \"{ %s|data %.4f| grad %.4f}\" % (n.label, n.data, n.grad), shape='record')\n",
        "    if n._op:\n",
        "      # if this value is a result of some operation, create an op node for it\n",
        "      dot.node(name = uid + n._op, label = n._op)\n",
        "      # and connect this op node to the value node\n",
        "      dot.edge(uid + n._op, uid)\n",
        "\n",
        "  for n1, n2 in edges:\n",
        "    # connect n1 to the op node of n2\n",
        "    dot.edge(str(id(n1)), str(id(n2)) + n2._op)\n",
        "\n",
        "  return dot\n",
        "\n",
        "# draw_dot(e)"
      ],
      "metadata": {
        "id": "Exo4MKxruA9M"
      },
      "execution_count": 161,
      "outputs": []
    },
    {
      "cell_type": "code",
      "source": [
        "print('cuda' if torch.cuda.is_available else 'cpu')"
      ],
      "metadata": {
        "colab": {
          "base_uri": "https://localhost:8080/"
        },
        "id": "RgCQi_kqYeeO",
        "outputId": "706fffb1-1057-4d8d-d8ac-4905dece1a29"
      },
      "execution_count": 162,
      "outputs": [
        {
          "output_type": "stream",
          "name": "stdout",
          "text": [
            "cuda\n"
          ]
        }
      ]
    },
    {
      "cell_type": "code",
      "source": [
        "class Value:\n",
        "  def __init__(self,data, _children = (), _op=\"\", label = ''):\n",
        "    self.data = data\n",
        "    self._prev = set(_children)\n",
        "    self._op = _op\n",
        "    self.label = label\n",
        "    self.grad = 0\n",
        "    self._backward = lambda: None\n",
        "\n",
        "  def __repr__(self):\n",
        "    return f\"Value(data={self.data})\"\n",
        "\n",
        "  def __add__(self, other):\n",
        "    out = Value(self.data + other.data, _children = (self,other), _op=\"+\")\n",
        "    def _backward():\n",
        "      self.grad += out.grad\n",
        "      other.grad += out.grad\n",
        "    out._backward = _backward\n",
        "    return out\n",
        "\n",
        "  def __mul__(self, other):\n",
        "    out = Value(self.data * other.data, _children = (self,other), _op=\"*\")\n",
        "    def _backward():\n",
        "      self.grad += other.data * out.grad\n",
        "      other.grad += self.data * out.grad\n",
        "    out._backward = _backward\n",
        "    return out\n",
        "\n",
        "  def tanh(self):\n",
        "    x = self.data\n",
        "    t = (math.exp(2*x) - 1)/(math.exp(2*x) + 1)\n",
        "    out = Value(t, _children = (self,), _op=\"tanh\")\n",
        "    def _backward():\n",
        "      self.grad += (1 - t**2) * out.grad\n",
        "    out._backward = _backward\n",
        "    return out\n",
        "\n",
        "\n",
        "\n",
        "\n",
        "  def backward(self):\n",
        "    topo = []\n",
        "    visited = set()\n",
        "    def build_topo(v):\n",
        "      if v not in visited:\n",
        "        visited.add(v)\n",
        "        for child in v._prev:\n",
        "          build_topo(child)\n",
        "        topo.append(v)\n",
        "    build_topo(self)\n",
        "\n",
        "    self.grad = 1\n",
        "    for neuron in reversed(topo):\n",
        "      neuron._backward()\n",
        "\n",
        "\n"
      ],
      "metadata": {
        "id": "K0bx65q2aZF6"
      },
      "execution_count": 165,
      "outputs": []
    },
    {
      "cell_type": "code",
      "source": [
        "x1 = Value(5, label = 'x1')\n",
        "x2 = Value(6, label = 'x2')\n",
        "w1 = Value(-3, label = 'w1')\n",
        "w2 = Value(2, label = 'w2')\n",
        "\n",
        "x1w1 = x1*w1; x1w1.label = 'x1*w1'\n",
        "x2w2 = x2*w2; x2w2.label = 'x2*w2'\n",
        "x1w1x2w2 = x1w1 + x2w2; x1w1x2w2.label = 'x1*w1 + x2*w2'\n",
        "n = x1w1x2w2.tanh(); n.label = 'tanh(x1*w1 + x2*w2)'\n",
        "# e = (2*n).exp(); e.label = 'e(2*n)'"
      ],
      "metadata": {
        "id": "PSnqVMNQsRQm"
      },
      "execution_count": 166,
      "outputs": []
    },
    {
      "cell_type": "code",
      "source": [
        "draw_dot(n)"
      ],
      "metadata": {
        "colab": {
          "base_uri": "https://localhost:8080/",
          "height": 321
        },
        "id": "iv3u1Lorvni_",
        "outputId": "0ccf1bf5-31f1-4b00-e6a7-5cf9dfbd08ad"
      },
      "execution_count": 170,
      "outputs": [
        {
          "output_type": "execute_result",
          "data": {
            "image/svg+xml": "<?xml version=\"1.0\" encoding=\"UTF-8\" standalone=\"no\"?>\n<!DOCTYPE svg PUBLIC \"-//W3C//DTD SVG 1.1//EN\"\n \"http://www.w3.org/Graphics/SVG/1.1/DTD/svg11.dtd\">\n<!-- Generated by graphviz version 2.43.0 (0)\n -->\n<!-- Title: %3 Pages: 1 -->\n<svg width=\"1391pt\" height=\"210pt\"\n viewBox=\"0.00 0.00 1391.00 210.00\" xmlns=\"http://www.w3.org/2000/svg\" xmlns:xlink=\"http://www.w3.org/1999/xlink\">\n<g id=\"graph0\" class=\"graph\" transform=\"scale(1 1) rotate(0) translate(4 206)\">\n<title>%3</title>\n<polygon fill=\"white\" stroke=\"transparent\" points=\"-4,4 -4,-206 1387,-206 1387,4 -4,4\"/>\n<!-- 132540607897168 -->\n<g id=\"node1\" class=\"node\">\n<title>132540607897168</title>\n<polygon fill=\"none\" stroke=\"black\" points=\"1078,-82.5 1078,-118.5 1383,-118.5 1383,-82.5 1078,-82.5\"/>\n<text text-anchor=\"middle\" x=\"1147\" y=\"-96.8\" font-family=\"Times,serif\" font-size=\"14.00\">tanh(x1*w1 + x2*w2)</text>\n<polyline fill=\"none\" stroke=\"black\" points=\"1216,-82.5 1216,-118.5 \"/>\n<text text-anchor=\"middle\" x=\"1258.5\" y=\"-96.8\" font-family=\"Times,serif\" font-size=\"14.00\">data &#45;0.9951</text>\n<polyline fill=\"none\" stroke=\"black\" points=\"1301,-82.5 1301,-118.5 \"/>\n<text text-anchor=\"middle\" x=\"1342\" y=\"-96.8\" font-family=\"Times,serif\" font-size=\"14.00\">grad 1.0000</text>\n</g>\n<!-- 132540607897168tanh -->\n<g id=\"node2\" class=\"node\">\n<title>132540607897168tanh</title>\n<ellipse fill=\"none\" stroke=\"black\" cx=\"1015\" cy=\"-100.5\" rx=\"27\" ry=\"18\"/>\n<text text-anchor=\"middle\" x=\"1015\" y=\"-96.8\" font-family=\"Times,serif\" font-size=\"14.00\">tanh</text>\n</g>\n<!-- 132540607897168tanh&#45;&gt;132540607897168 -->\n<g id=\"edge1\" class=\"edge\">\n<title>132540607897168tanh&#45;&gt;132540607897168</title>\n<path fill=\"none\" stroke=\"black\" d=\"M1042.18,-100.5C1049.62,-100.5 1058.3,-100.5 1067.78,-100.5\"/>\n<polygon fill=\"black\" stroke=\"black\" points=\"1067.93,-104 1077.93,-100.5 1067.93,-97 1067.93,-104\"/>\n</g>\n<!-- 132540607894416 -->\n<g id=\"node3\" class=\"node\">\n<title>132540607894416</title>\n<polygon fill=\"none\" stroke=\"black\" points=\"328.5,-110.5 328.5,-146.5 550.5,-146.5 550.5,-110.5 328.5,-110.5\"/>\n<text text-anchor=\"middle\" x=\"355\" y=\"-124.8\" font-family=\"Times,serif\" font-size=\"14.00\">x2*w2</text>\n<polyline fill=\"none\" stroke=\"black\" points=\"381.5,-110.5 381.5,-146.5 \"/>\n<text text-anchor=\"middle\" x=\"425\" y=\"-124.8\" font-family=\"Times,serif\" font-size=\"14.00\">data 12.0000</text>\n<polyline fill=\"none\" stroke=\"black\" points=\"468.5,-110.5 468.5,-146.5 \"/>\n<text text-anchor=\"middle\" x=\"509.5\" y=\"-124.8\" font-family=\"Times,serif\" font-size=\"14.00\">grad 0.0099</text>\n</g>\n<!-- 132540607891216+ -->\n<g id=\"node9\" class=\"node\">\n<title>132540607891216+</title>\n<ellipse fill=\"none\" stroke=\"black\" cx=\"616\" cy=\"-100.5\" rx=\"27\" ry=\"18\"/>\n<text text-anchor=\"middle\" x=\"616\" y=\"-96.8\" font-family=\"Times,serif\" font-size=\"14.00\">+</text>\n</g>\n<!-- 132540607894416&#45;&gt;132540607891216+ -->\n<g id=\"edge6\" class=\"edge\">\n<title>132540607894416&#45;&gt;132540607891216+</title>\n<path fill=\"none\" stroke=\"black\" d=\"M550.52,-110.85C560.78,-109.2 570.58,-107.63 579.31,-106.23\"/>\n<polygon fill=\"black\" stroke=\"black\" points=\"580.07,-109.65 589.39,-104.61 578.96,-102.74 580.07,-109.65\"/>\n</g>\n<!-- 132540607894416* -->\n<g id=\"node4\" class=\"node\">\n<title>132540607894416*</title>\n<ellipse fill=\"none\" stroke=\"black\" cx=\"263\" cy=\"-128.5\" rx=\"27\" ry=\"18\"/>\n<text text-anchor=\"middle\" x=\"263\" y=\"-124.8\" font-family=\"Times,serif\" font-size=\"14.00\">*</text>\n</g>\n<!-- 132540607894416*&#45;&gt;132540607894416 -->\n<g id=\"edge2\" class=\"edge\">\n<title>132540607894416*&#45;&gt;132540607894416</title>\n<path fill=\"none\" stroke=\"black\" d=\"M290.12,-128.5C298.27,-128.5 307.83,-128.5 318.13,-128.5\"/>\n<polygon fill=\"black\" stroke=\"black\" points=\"318.19,-132 328.19,-128.5 318.19,-125 318.19,-132\"/>\n</g>\n<!-- 132540607895184 -->\n<g id=\"node5\" class=\"node\">\n<title>132540607895184</title>\n<polygon fill=\"none\" stroke=\"black\" points=\"2.5,-165.5 2.5,-201.5 197.5,-201.5 197.5,-165.5 2.5,-165.5\"/>\n<text text-anchor=\"middle\" x=\"19\" y=\"-179.8\" font-family=\"Times,serif\" font-size=\"14.00\">w2</text>\n<polyline fill=\"none\" stroke=\"black\" points=\"35.5,-165.5 35.5,-201.5 \"/>\n<text text-anchor=\"middle\" x=\"75.5\" y=\"-179.8\" font-family=\"Times,serif\" font-size=\"14.00\">data 2.0000</text>\n<polyline fill=\"none\" stroke=\"black\" points=\"115.5,-165.5 115.5,-201.5 \"/>\n<text text-anchor=\"middle\" x=\"156.5\" y=\"-179.8\" font-family=\"Times,serif\" font-size=\"14.00\">grad 0.0592</text>\n</g>\n<!-- 132540607895184&#45;&gt;132540607894416* -->\n<g id=\"edge7\" class=\"edge\">\n<title>132540607895184&#45;&gt;132540607894416*</title>\n<path fill=\"none\" stroke=\"black\" d=\"M172.53,-165.44C181.84,-162.67 191.2,-159.67 200,-156.5 210.53,-152.71 221.75,-147.9 231.72,-143.33\"/>\n<polygon fill=\"black\" stroke=\"black\" points=\"233.25,-146.48 240.82,-139.07 230.28,-140.14 233.25,-146.48\"/>\n</g>\n<!-- 132540607896272 -->\n<g id=\"node6\" class=\"node\">\n<title>132540607896272</title>\n<polygon fill=\"none\" stroke=\"black\" points=\"0,-55.5 0,-91.5 200,-91.5 200,-55.5 0,-55.5\"/>\n<text text-anchor=\"middle\" x=\"16.5\" y=\"-69.8\" font-family=\"Times,serif\" font-size=\"14.00\">w1</text>\n<polyline fill=\"none\" stroke=\"black\" points=\"33,-55.5 33,-91.5 \"/>\n<text text-anchor=\"middle\" x=\"75.5\" y=\"-69.8\" font-family=\"Times,serif\" font-size=\"14.00\">data &#45;3.0000</text>\n<polyline fill=\"none\" stroke=\"black\" points=\"118,-55.5 118,-91.5 \"/>\n<text text-anchor=\"middle\" x=\"159\" y=\"-69.8\" font-family=\"Times,serif\" font-size=\"14.00\">grad 0.0493</text>\n</g>\n<!-- 132540607897488* -->\n<g id=\"node12\" class=\"node\">\n<title>132540607897488*</title>\n<ellipse fill=\"none\" stroke=\"black\" cx=\"263\" cy=\"-73.5\" rx=\"27\" ry=\"18\"/>\n<text text-anchor=\"middle\" x=\"263\" y=\"-69.8\" font-family=\"Times,serif\" font-size=\"14.00\">*</text>\n</g>\n<!-- 132540607896272&#45;&gt;132540607897488* -->\n<g id=\"edge9\" class=\"edge\">\n<title>132540607896272&#45;&gt;132540607897488*</title>\n<path fill=\"none\" stroke=\"black\" d=\"M200.21,-73.5C209.2,-73.5 217.86,-73.5 225.7,-73.5\"/>\n<polygon fill=\"black\" stroke=\"black\" points=\"225.85,-77 235.85,-73.5 225.85,-70 225.85,-77\"/>\n</g>\n<!-- 132540607890128 -->\n<g id=\"node7\" class=\"node\">\n<title>132540607890128</title>\n<polygon fill=\"none\" stroke=\"black\" points=\"4,-110.5 4,-146.5 196,-146.5 196,-110.5 4,-110.5\"/>\n<text text-anchor=\"middle\" x=\"19\" y=\"-124.8\" font-family=\"Times,serif\" font-size=\"14.00\">x2</text>\n<polyline fill=\"none\" stroke=\"black\" points=\"34,-110.5 34,-146.5 \"/>\n<text text-anchor=\"middle\" x=\"74\" y=\"-124.8\" font-family=\"Times,serif\" font-size=\"14.00\">data 6.0000</text>\n<polyline fill=\"none\" stroke=\"black\" points=\"114,-110.5 114,-146.5 \"/>\n<text text-anchor=\"middle\" x=\"155\" y=\"-124.8\" font-family=\"Times,serif\" font-size=\"14.00\">grad 0.0197</text>\n</g>\n<!-- 132540607890128&#45;&gt;132540607894416* -->\n<g id=\"edge11\" class=\"edge\">\n<title>132540607890128&#45;&gt;132540607894416*</title>\n<path fill=\"none\" stroke=\"black\" d=\"M196.05,-128.5C206.52,-128.5 216.65,-128.5 225.71,-128.5\"/>\n<polygon fill=\"black\" stroke=\"black\" points=\"225.79,-132 235.79,-128.5 225.79,-125 225.79,-132\"/>\n</g>\n<!-- 132540607891216 -->\n<g id=\"node8\" class=\"node\">\n<title>132540607891216</title>\n<polygon fill=\"none\" stroke=\"black\" points=\"679,-82.5 679,-118.5 952,-118.5 952,-82.5 679,-82.5\"/>\n<text text-anchor=\"middle\" x=\"732\" y=\"-96.8\" font-family=\"Times,serif\" font-size=\"14.00\">x1*w1 + x2*w2</text>\n<polyline fill=\"none\" stroke=\"black\" points=\"785,-82.5 785,-118.5 \"/>\n<text text-anchor=\"middle\" x=\"827.5\" y=\"-96.8\" font-family=\"Times,serif\" font-size=\"14.00\">data &#45;3.0000</text>\n<polyline fill=\"none\" stroke=\"black\" points=\"870,-82.5 870,-118.5 \"/>\n<text text-anchor=\"middle\" x=\"911\" y=\"-96.8\" font-family=\"Times,serif\" font-size=\"14.00\">grad 0.0099</text>\n</g>\n<!-- 132540607891216&#45;&gt;132540607897168tanh -->\n<g id=\"edge10\" class=\"edge\">\n<title>132540607891216&#45;&gt;132540607897168tanh</title>\n<path fill=\"none\" stroke=\"black\" d=\"M952.05,-100.5C961.21,-100.5 969.88,-100.5 977.67,-100.5\"/>\n<polygon fill=\"black\" stroke=\"black\" points=\"977.72,-104 987.72,-100.5 977.72,-97 977.72,-104\"/>\n</g>\n<!-- 132540607891216+&#45;&gt;132540607891216 -->\n<g id=\"edge3\" class=\"edge\">\n<title>132540607891216+&#45;&gt;132540607891216</title>\n<path fill=\"none\" stroke=\"black\" d=\"M643.23,-100.5C650.7,-100.5 659.41,-100.5 668.87,-100.5\"/>\n<polygon fill=\"black\" stroke=\"black\" points=\"668.98,-104 678.98,-100.5 668.98,-97 668.98,-104\"/>\n</g>\n<!-- 132540607513936 -->\n<g id=\"node10\" class=\"node\">\n<title>132540607513936</title>\n<polygon fill=\"none\" stroke=\"black\" points=\"2,-0.5 2,-36.5 198,-36.5 198,-0.5 2,-0.5\"/>\n<text text-anchor=\"middle\" x=\"17\" y=\"-14.8\" font-family=\"Times,serif\" font-size=\"14.00\">x1</text>\n<polyline fill=\"none\" stroke=\"black\" points=\"32,-0.5 32,-36.5 \"/>\n<text text-anchor=\"middle\" x=\"72\" y=\"-14.8\" font-family=\"Times,serif\" font-size=\"14.00\">data 5.0000</text>\n<polyline fill=\"none\" stroke=\"black\" points=\"112,-0.5 112,-36.5 \"/>\n<text text-anchor=\"middle\" x=\"155\" y=\"-14.8\" font-family=\"Times,serif\" font-size=\"14.00\">grad &#45;0.0296</text>\n</g>\n<!-- 132540607513936&#45;&gt;132540607897488* -->\n<g id=\"edge8\" class=\"edge\">\n<title>132540607513936&#45;&gt;132540607897488*</title>\n<path fill=\"none\" stroke=\"black\" d=\"M169.28,-36.5C179.65,-39.61 190.16,-42.98 200,-46.5 210.28,-50.17 221.28,-54.74 231.11,-59.07\"/>\n<polygon fill=\"black\" stroke=\"black\" points=\"229.93,-62.37 240.48,-63.27 232.79,-55.99 229.93,-62.37\"/>\n</g>\n<!-- 132540607897488 -->\n<g id=\"node11\" class=\"node\">\n<title>132540607897488</title>\n<polygon fill=\"none\" stroke=\"black\" points=\"326,-55.5 326,-91.5 553,-91.5 553,-55.5 326,-55.5\"/>\n<text text-anchor=\"middle\" x=\"352.5\" y=\"-69.8\" font-family=\"Times,serif\" font-size=\"14.00\">x1*w1</text>\n<polyline fill=\"none\" stroke=\"black\" points=\"379,-55.5 379,-91.5 \"/>\n<text text-anchor=\"middle\" x=\"425\" y=\"-69.8\" font-family=\"Times,serif\" font-size=\"14.00\">data &#45;15.0000</text>\n<polyline fill=\"none\" stroke=\"black\" points=\"471,-55.5 471,-91.5 \"/>\n<text text-anchor=\"middle\" x=\"512\" y=\"-69.8\" font-family=\"Times,serif\" font-size=\"14.00\">grad 0.0099</text>\n</g>\n<!-- 132540607897488&#45;&gt;132540607891216+ -->\n<g id=\"edge5\" class=\"edge\">\n<title>132540607897488&#45;&gt;132540607891216+</title>\n<path fill=\"none\" stroke=\"black\" d=\"M553.48,-90.98C562.77,-92.42 571.64,-93.79 579.6,-95.02\"/>\n<polygon fill=\"black\" stroke=\"black\" points=\"579.09,-98.49 589.51,-96.56 580.16,-91.57 579.09,-98.49\"/>\n</g>\n<!-- 132540607897488*&#45;&gt;132540607897488 -->\n<g id=\"edge4\" class=\"edge\">\n<title>132540607897488*&#45;&gt;132540607897488</title>\n<path fill=\"none\" stroke=\"black\" d=\"M290.12,-73.5C297.67,-73.5 306.45,-73.5 315.9,-73.5\"/>\n<polygon fill=\"black\" stroke=\"black\" points=\"315.95,-77 325.95,-73.5 315.95,-70 315.95,-77\"/>\n</g>\n</g>\n</svg>\n",
            "text/plain": [
              "<graphviz.graphs.Digraph at 0x788b82fa0410>"
            ]
          },
          "metadata": {},
          "execution_count": 170
        }
      ]
    },
    {
      "cell_type": "code",
      "source": [
        "n.backward()"
      ],
      "metadata": {
        "id": "DrsuaWkZyjUT"
      },
      "execution_count": 169,
      "outputs": []
    },
    {
      "cell_type": "code",
      "source": [],
      "metadata": {
        "id": "qEa3_Twe2DKa"
      },
      "execution_count": 143,
      "outputs": []
    },
    {
      "cell_type": "code",
      "source": [],
      "metadata": {
        "id": "DBpFfLsQ3KDO"
      },
      "execution_count": 147,
      "outputs": []
    },
    {
      "cell_type": "code",
      "source": [],
      "metadata": {
        "id": "yIx7bkBn3irf"
      },
      "execution_count": null,
      "outputs": []
    }
  ]
}