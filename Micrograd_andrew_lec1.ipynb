{
  "nbformat": 4,
  "nbformat_minor": 0,
  "metadata": {
    "colab": {
      "provenance": [],
      "authorship_tag": "ABX9TyPMLhRfpmWAQcBnfK30KQCl",
      "include_colab_link": true
    },
    "kernelspec": {
      "name": "python3",
      "display_name": "Python 3"
    },
    "language_info": {
      "name": "python"
    }
  },
  "cells": [
    {
      "cell_type": "markdown",
      "metadata": {
        "id": "view-in-github",
        "colab_type": "text"
      },
      "source": [
        "<a href=\"https://colab.research.google.com/github/tanmayyg/micrograd/blob/main/Micrograd_andrew_lec1.ipynb\" target=\"_parent\"><img src=\"https://colab.research.google.com/assets/colab-badge.svg\" alt=\"Open In Colab\"/></a>"
      ]
    },
    {
      "cell_type": "code",
      "execution_count": null,
      "metadata": {
        "id": "uGJ9lbGXYcTV"
      },
      "outputs": [],
      "source": [
        "import torch\n",
        "import math\n",
        "import matplotlib.pyplot as plt\n",
        "import random\n"
      ]
    },
    {
      "cell_type": "code",
      "source": [
        "# prompt: I want a code to represent this network of Value nodes that I have created\n",
        "\n",
        "# !pip install graphviz\n",
        "from graphviz import Digraph\n",
        "\n",
        "def trace(root):\n",
        "  # builds a set of all nodes and edges in a graph\n",
        "  nodes, edges = set(), set()\n",
        "  def build(v):\n",
        "    if v not in nodes:\n",
        "      nodes.add(v)\n",
        "      for child in v._prev:\n",
        "        edges.add((child, v))\n",
        "        build(child)\n",
        "  build(root)\n",
        "  return nodes, edges\n",
        "\n",
        "def draw_dot(root):\n",
        "  dot = Digraph(format='svg', graph_attr={'rankdir': 'LR'}) # LR = left to right\n",
        "\n",
        "  nodes, edges = trace(root)\n",
        "  for n in nodes:\n",
        "    uid = str(id(n))\n",
        "    # for any value in the graph, create a rectangular node for it\n",
        "    dot.node(name = uid, label = \"{ %s|data %.4f| grad %.4f}\" % (n.label, n.data, n.grad), shape='record')\n",
        "    if n._op:\n",
        "      # if this value is a result of some operation, create an op node for it\n",
        "      dot.node(name = uid + n._op, label = n._op)\n",
        "      # and connect this op node to the value node\n",
        "      dot.edge(uid + n._op, uid)\n",
        "\n",
        "  for n1, n2 in edges:\n",
        "    # connect n1 to the op node of n2\n",
        "    dot.edge(str(id(n1)), str(id(n2)) + n2._op)\n",
        "\n",
        "  return dot\n",
        "\n",
        "# draw_dot(e)"
      ],
      "metadata": {
        "id": "Exo4MKxruA9M"
      },
      "execution_count": null,
      "outputs": []
    },
    {
      "cell_type": "code",
      "source": [
        "print('cuda' if torch.cuda.is_available else 'cpu')"
      ],
      "metadata": {
        "colab": {
          "base_uri": "https://localhost:8080/"
        },
        "id": "RgCQi_kqYeeO",
        "outputId": "706fffb1-1057-4d8d-d8ac-4905dece1a29"
      },
      "execution_count": null,
      "outputs": [
        {
          "output_type": "stream",
          "name": "stdout",
          "text": [
            "cuda\n"
          ]
        }
      ]
    },
    {
      "cell_type": "code",
      "source": [
        "class Value:\n",
        "  def __init__(self,data, _children = (), _op=\"\", label = ''):\n",
        "    self.data = data\n",
        "    self._prev = set(_children)\n",
        "    self._op = _op\n",
        "    self.label = label\n",
        "    self.grad = 0\n",
        "    self._backward = lambda: None\n",
        "\n",
        "  def __repr__(self):\n",
        "    return f\"Value(data={self.data})\"\n",
        "\n",
        "  def __add__(self, other):\n",
        "    other = other if isinstance(other, Value) else Value(other)\n",
        "    out = Value(self.data + other.data, _children = (self,other), _op=\"+\")\n",
        "    def _backward():\n",
        "      self.grad += out.grad\n",
        "      other.grad += out.grad\n",
        "    out._backward = _backward\n",
        "    return out\n",
        "\n",
        "  def __mul__(self, other):\n",
        "    other = other if isinstance(other, Value) else Value(other)\n",
        "    out = Value(self.data * other.data, _children = (self,other), _op=\"*\")\n",
        "    def _backward():\n",
        "      self.grad += other.data * out.grad\n",
        "      other.grad += self.data * out.grad\n",
        "    out._backward = _backward\n",
        "    return out\n",
        "\n",
        "  def __rsub__(self, other):\n",
        "    return -1*(self - other)\n",
        "\n",
        "  def __radd__(self, other):\n",
        "    return self + other\n",
        "\n",
        "  def __rmul__(self, other):\n",
        "    return self * other\n",
        "\n",
        "  def __truediv__(self, other):\n",
        "    return self * other**-1\n",
        "\n",
        "  def __pow__(self,other):\n",
        "    assert isinstance(other, (int, float)), \"only supporting int/float powers for now\"\n",
        "    # other = other if isinstance(other, Value) else Value(other)\n",
        "    out = Value(self.data ** other, _children = (self,), _op=\"**\")\n",
        "    def _backward():\n",
        "      self.grad += (other * (self.data ** (other - 1))) * out.grad\n",
        "      # other.grad += (out.data * math.log(self.data)) * out.grad\n",
        "    out._backward = _backward\n",
        "    return out\n",
        "\n",
        "  def __neg__(self):\n",
        "    return self * -1\n",
        "\n",
        "  def __sub__(self, other):\n",
        "    return self + (-other)\n",
        "\n",
        "\n",
        "  def tanh(self):\n",
        "    x = self.data\n",
        "    t = (math.exp(2*x) - 1)/(math.exp(2*x) + 1)\n",
        "    out = Value(t, _children = (self,), _op=\"tanh\")\n",
        "    def _backward():\n",
        "      self.grad += ((1 - t**2) * out.grad)\n",
        "    out._backward = _backward\n",
        "    return out\n",
        "\n",
        "  def exp(self):\n",
        "    x = self.data\n",
        "    out = Value(math.exp(x), _children = (self,), _op=\"exp\")\n",
        "    def _backward():\n",
        "      self.grad += (out.data * out.grad)\n",
        "    out._backward = _backward\n",
        "    return out\n",
        "\n",
        "\n",
        "\n",
        "  def backward(self):\n",
        "    topo = []\n",
        "    visited = set()\n",
        "    def build_topo(v):\n",
        "      if v not in visited:\n",
        "        visited.add(v)\n",
        "        for child in v._prev:\n",
        "          build_topo(child)\n",
        "        topo.append(v)\n",
        "    build_topo(self)\n",
        "\n",
        "    self.grad = 1\n",
        "    for neuron in reversed(topo):\n",
        "      neuron._backward()\n",
        "\n",
        "\n"
      ],
      "metadata": {
        "id": "K0bx65q2aZF6"
      },
      "execution_count": null,
      "outputs": []
    },
    {
      "cell_type": "code",
      "source": [
        "a = Value(5)\n",
        "b = Value(4)\n",
        "a + (-1*-b)"
      ],
      "metadata": {
        "colab": {
          "base_uri": "https://localhost:8080/"
        },
        "id": "L5azhblkCKUa",
        "outputId": "271b9b44-0e3c-46df-bd6a-434f45084742"
      },
      "execution_count": null,
      "outputs": [
        {
          "output_type": "execute_result",
          "data": {
            "text/plain": [
              "Value(data=9)"
            ]
          },
          "metadata": {},
          "execution_count": 211
        }
      ]
    },
    {
      "cell_type": "code",
      "source": [
        "x1 = Value(5, label = 'x1')\n",
        "x2 = Value(6, label = 'x2')\n",
        "w1 = Value(-3, label = 'w1')\n",
        "w2 = Value(2, label = 'w2')\n",
        "\n",
        "x1w1 = x1*w1; x1w1.label = 'x1*w1'\n",
        "x2w2 = x2*w2; x2w2.label = 'x2*w2'\n",
        "x1w1x2w2 = x1w1 + x2w2; x1w1x2w2.label = 'x1*w1 + x2*w2'\n",
        "n = x1w1x2w2.tanh(); n.label = 'tanh(x1*w1 + x2*w2)'\n",
        "n.backward()\n",
        "draw_dot(n)\n",
        "# e = (2*n).exp(); e.label = 'e(2*n)'"
      ],
      "metadata": {
        "colab": {
          "base_uri": "https://localhost:8080/",
          "height": 321
        },
        "id": "PSnqVMNQsRQm",
        "outputId": "b3cc72dd-911b-4da4-d277-2caa8ac1fc32"
      },
      "execution_count": null,
      "outputs": [
        {
          "output_type": "execute_result",
          "data": {
            "image/svg+xml": "<?xml version=\"1.0\" encoding=\"UTF-8\" standalone=\"no\"?>\n<!DOCTYPE svg PUBLIC \"-//W3C//DTD SVG 1.1//EN\"\n \"http://www.w3.org/Graphics/SVG/1.1/DTD/svg11.dtd\">\n<!-- Generated by graphviz version 2.43.0 (0)\n -->\n<!-- Title: %3 Pages: 1 -->\n<svg width=\"1391pt\" height=\"210pt\"\n viewBox=\"0.00 0.00 1391.00 210.00\" xmlns=\"http://www.w3.org/2000/svg\" xmlns:xlink=\"http://www.w3.org/1999/xlink\">\n<g id=\"graph0\" class=\"graph\" transform=\"scale(1 1) rotate(0) translate(4 206)\">\n<title>%3</title>\n<polygon fill=\"white\" stroke=\"transparent\" points=\"-4,4 -4,-206 1387,-206 1387,4 -4,4\"/>\n<!-- 132540610468944 -->\n<g id=\"node1\" class=\"node\">\n<title>132540610468944</title>\n<polygon fill=\"none\" stroke=\"black\" points=\"1078,-82.5 1078,-118.5 1383,-118.5 1383,-82.5 1078,-82.5\"/>\n<text text-anchor=\"middle\" x=\"1147\" y=\"-96.8\" font-family=\"Times,serif\" font-size=\"14.00\">tanh(x1*w1 + x2*w2)</text>\n<polyline fill=\"none\" stroke=\"black\" points=\"1216,-82.5 1216,-118.5 \"/>\n<text text-anchor=\"middle\" x=\"1258.5\" y=\"-96.8\" font-family=\"Times,serif\" font-size=\"14.00\">data &#45;0.9951</text>\n<polyline fill=\"none\" stroke=\"black\" points=\"1301,-82.5 1301,-118.5 \"/>\n<text text-anchor=\"middle\" x=\"1342\" y=\"-96.8\" font-family=\"Times,serif\" font-size=\"14.00\">grad 1.0000</text>\n</g>\n<!-- 132540610468944tanh -->\n<g id=\"node2\" class=\"node\">\n<title>132540610468944tanh</title>\n<ellipse fill=\"none\" stroke=\"black\" cx=\"1015\" cy=\"-100.5\" rx=\"27\" ry=\"18\"/>\n<text text-anchor=\"middle\" x=\"1015\" y=\"-96.8\" font-family=\"Times,serif\" font-size=\"14.00\">tanh</text>\n</g>\n<!-- 132540610468944tanh&#45;&gt;132540610468944 -->\n<g id=\"edge1\" class=\"edge\">\n<title>132540610468944tanh&#45;&gt;132540610468944</title>\n<path fill=\"none\" stroke=\"black\" d=\"M1042.18,-100.5C1049.62,-100.5 1058.3,-100.5 1067.78,-100.5\"/>\n<polygon fill=\"black\" stroke=\"black\" points=\"1067.93,-104 1077.93,-100.5 1067.93,-97 1067.93,-104\"/>\n</g>\n<!-- 132540610463824 -->\n<g id=\"node3\" class=\"node\">\n<title>132540610463824</title>\n<polygon fill=\"none\" stroke=\"black\" points=\"0,-165.5 0,-201.5 200,-201.5 200,-165.5 0,-165.5\"/>\n<text text-anchor=\"middle\" x=\"16.5\" y=\"-179.8\" font-family=\"Times,serif\" font-size=\"14.00\">w1</text>\n<polyline fill=\"none\" stroke=\"black\" points=\"33,-165.5 33,-201.5 \"/>\n<text text-anchor=\"middle\" x=\"75.5\" y=\"-179.8\" font-family=\"Times,serif\" font-size=\"14.00\">data &#45;3.0000</text>\n<polyline fill=\"none\" stroke=\"black\" points=\"118,-165.5 118,-201.5 \"/>\n<text text-anchor=\"middle\" x=\"159\" y=\"-179.8\" font-family=\"Times,serif\" font-size=\"14.00\">grad 0.0493</text>\n</g>\n<!-- 132540610467088* -->\n<g id=\"node7\" class=\"node\">\n<title>132540610467088*</title>\n<ellipse fill=\"none\" stroke=\"black\" cx=\"263\" cy=\"-128.5\" rx=\"27\" ry=\"18\"/>\n<text text-anchor=\"middle\" x=\"263\" y=\"-124.8\" font-family=\"Times,serif\" font-size=\"14.00\">*</text>\n</g>\n<!-- 132540610463824&#45;&gt;132540610467088* -->\n<g id=\"edge10\" class=\"edge\">\n<title>132540610463824&#45;&gt;132540610467088*</title>\n<path fill=\"none\" stroke=\"black\" d=\"M172.53,-165.44C181.84,-162.67 191.2,-159.67 200,-156.5 210.53,-152.71 221.75,-147.9 231.72,-143.33\"/>\n<polygon fill=\"black\" stroke=\"black\" points=\"233.25,-146.48 240.82,-139.07 230.28,-140.14 233.25,-146.48\"/>\n</g>\n<!-- 132540610462864 -->\n<g id=\"node4\" class=\"node\">\n<title>132540610462864</title>\n<polygon fill=\"none\" stroke=\"black\" points=\"2.5,-55.5 2.5,-91.5 197.5,-91.5 197.5,-55.5 2.5,-55.5\"/>\n<text text-anchor=\"middle\" x=\"19\" y=\"-69.8\" font-family=\"Times,serif\" font-size=\"14.00\">w2</text>\n<polyline fill=\"none\" stroke=\"black\" points=\"35.5,-55.5 35.5,-91.5 \"/>\n<text text-anchor=\"middle\" x=\"75.5\" y=\"-69.8\" font-family=\"Times,serif\" font-size=\"14.00\">data 2.0000</text>\n<polyline fill=\"none\" stroke=\"black\" points=\"115.5,-55.5 115.5,-91.5 \"/>\n<text text-anchor=\"middle\" x=\"156.5\" y=\"-69.8\" font-family=\"Times,serif\" font-size=\"14.00\">grad 0.0592</text>\n</g>\n<!-- 132540610469776* -->\n<g id=\"node12\" class=\"node\">\n<title>132540610469776*</title>\n<ellipse fill=\"none\" stroke=\"black\" cx=\"263\" cy=\"-73.5\" rx=\"27\" ry=\"18\"/>\n<text text-anchor=\"middle\" x=\"263\" y=\"-69.8\" font-family=\"Times,serif\" font-size=\"14.00\">*</text>\n</g>\n<!-- 132540610462864&#45;&gt;132540610469776* -->\n<g id=\"edge5\" class=\"edge\">\n<title>132540610462864&#45;&gt;132540610469776*</title>\n<path fill=\"none\" stroke=\"black\" d=\"M197.91,-73.5C207.65,-73.5 217.05,-73.5 225.52,-73.5\"/>\n<polygon fill=\"black\" stroke=\"black\" points=\"225.7,-77 235.7,-73.5 225.7,-70 225.7,-77\"/>\n</g>\n<!-- 132540606083728 -->\n<g id=\"node5\" class=\"node\">\n<title>132540606083728</title>\n<polygon fill=\"none\" stroke=\"black\" points=\"4,-0.5 4,-36.5 196,-36.5 196,-0.5 4,-0.5\"/>\n<text text-anchor=\"middle\" x=\"19\" y=\"-14.8\" font-family=\"Times,serif\" font-size=\"14.00\">x2</text>\n<polyline fill=\"none\" stroke=\"black\" points=\"34,-0.5 34,-36.5 \"/>\n<text text-anchor=\"middle\" x=\"74\" y=\"-14.8\" font-family=\"Times,serif\" font-size=\"14.00\">data 6.0000</text>\n<polyline fill=\"none\" stroke=\"black\" points=\"114,-0.5 114,-36.5 \"/>\n<text text-anchor=\"middle\" x=\"155\" y=\"-14.8\" font-family=\"Times,serif\" font-size=\"14.00\">grad 0.0197</text>\n</g>\n<!-- 132540606083728&#45;&gt;132540610469776* -->\n<g id=\"edge9\" class=\"edge\">\n<title>132540606083728&#45;&gt;132540610469776*</title>\n<path fill=\"none\" stroke=\"black\" d=\"M169.28,-36.5C179.65,-39.61 190.16,-42.98 200,-46.5 210.28,-50.17 221.28,-54.74 231.11,-59.07\"/>\n<polygon fill=\"black\" stroke=\"black\" points=\"229.93,-62.37 240.48,-63.27 232.79,-55.99 229.93,-62.37\"/>\n</g>\n<!-- 132540610467088 -->\n<g id=\"node6\" class=\"node\">\n<title>132540610467088</title>\n<polygon fill=\"none\" stroke=\"black\" points=\"326,-110.5 326,-146.5 553,-146.5 553,-110.5 326,-110.5\"/>\n<text text-anchor=\"middle\" x=\"352.5\" y=\"-124.8\" font-family=\"Times,serif\" font-size=\"14.00\">x1*w1</text>\n<polyline fill=\"none\" stroke=\"black\" points=\"379,-110.5 379,-146.5 \"/>\n<text text-anchor=\"middle\" x=\"425\" y=\"-124.8\" font-family=\"Times,serif\" font-size=\"14.00\">data &#45;15.0000</text>\n<polyline fill=\"none\" stroke=\"black\" points=\"471,-110.5 471,-146.5 \"/>\n<text text-anchor=\"middle\" x=\"512\" y=\"-124.8\" font-family=\"Times,serif\" font-size=\"14.00\">grad 0.0099</text>\n</g>\n<!-- 132540610476304+ -->\n<g id=\"node9\" class=\"node\">\n<title>132540610476304+</title>\n<ellipse fill=\"none\" stroke=\"black\" cx=\"616\" cy=\"-100.5\" rx=\"27\" ry=\"18\"/>\n<text text-anchor=\"middle\" x=\"616\" y=\"-96.8\" font-family=\"Times,serif\" font-size=\"14.00\">+</text>\n</g>\n<!-- 132540610467088&#45;&gt;132540610476304+ -->\n<g id=\"edge8\" class=\"edge\">\n<title>132540610467088&#45;&gt;132540610476304+</title>\n<path fill=\"none\" stroke=\"black\" d=\"M552.99,-110.45C562.43,-108.93 571.45,-107.49 579.53,-106.19\"/>\n<polygon fill=\"black\" stroke=\"black\" points=\"580.26,-109.62 589.58,-104.58 579.15,-102.71 580.26,-109.62\"/>\n</g>\n<!-- 132540610467088*&#45;&gt;132540610467088 -->\n<g id=\"edge2\" class=\"edge\">\n<title>132540610467088*&#45;&gt;132540610467088</title>\n<path fill=\"none\" stroke=\"black\" d=\"M290.12,-128.5C297.67,-128.5 306.45,-128.5 315.9,-128.5\"/>\n<polygon fill=\"black\" stroke=\"black\" points=\"315.95,-132 325.95,-128.5 315.95,-125 315.95,-132\"/>\n</g>\n<!-- 132540610476304 -->\n<g id=\"node8\" class=\"node\">\n<title>132540610476304</title>\n<polygon fill=\"none\" stroke=\"black\" points=\"679,-82.5 679,-118.5 952,-118.5 952,-82.5 679,-82.5\"/>\n<text text-anchor=\"middle\" x=\"732\" y=\"-96.8\" font-family=\"Times,serif\" font-size=\"14.00\">x1*w1 + x2*w2</text>\n<polyline fill=\"none\" stroke=\"black\" points=\"785,-82.5 785,-118.5 \"/>\n<text text-anchor=\"middle\" x=\"827.5\" y=\"-96.8\" font-family=\"Times,serif\" font-size=\"14.00\">data &#45;3.0000</text>\n<polyline fill=\"none\" stroke=\"black\" points=\"870,-82.5 870,-118.5 \"/>\n<text text-anchor=\"middle\" x=\"911\" y=\"-96.8\" font-family=\"Times,serif\" font-size=\"14.00\">grad 0.0099</text>\n</g>\n<!-- 132540610476304&#45;&gt;132540610468944tanh -->\n<g id=\"edge11\" class=\"edge\">\n<title>132540610476304&#45;&gt;132540610468944tanh</title>\n<path fill=\"none\" stroke=\"black\" d=\"M952.05,-100.5C961.21,-100.5 969.88,-100.5 977.67,-100.5\"/>\n<polygon fill=\"black\" stroke=\"black\" points=\"977.72,-104 987.72,-100.5 977.72,-97 977.72,-104\"/>\n</g>\n<!-- 132540610476304+&#45;&gt;132540610476304 -->\n<g id=\"edge3\" class=\"edge\">\n<title>132540610476304+&#45;&gt;132540610476304</title>\n<path fill=\"none\" stroke=\"black\" d=\"M643.23,-100.5C650.7,-100.5 659.41,-100.5 668.87,-100.5\"/>\n<polygon fill=\"black\" stroke=\"black\" points=\"668.98,-104 678.98,-100.5 668.98,-97 668.98,-104\"/>\n</g>\n<!-- 132540606071120 -->\n<g id=\"node10\" class=\"node\">\n<title>132540606071120</title>\n<polygon fill=\"none\" stroke=\"black\" points=\"2,-110.5 2,-146.5 198,-146.5 198,-110.5 2,-110.5\"/>\n<text text-anchor=\"middle\" x=\"17\" y=\"-124.8\" font-family=\"Times,serif\" font-size=\"14.00\">x1</text>\n<polyline fill=\"none\" stroke=\"black\" points=\"32,-110.5 32,-146.5 \"/>\n<text text-anchor=\"middle\" x=\"72\" y=\"-124.8\" font-family=\"Times,serif\" font-size=\"14.00\">data 5.0000</text>\n<polyline fill=\"none\" stroke=\"black\" points=\"112,-110.5 112,-146.5 \"/>\n<text text-anchor=\"middle\" x=\"155\" y=\"-124.8\" font-family=\"Times,serif\" font-size=\"14.00\">grad &#45;0.0296</text>\n</g>\n<!-- 132540606071120&#45;&gt;132540610467088* -->\n<g id=\"edge6\" class=\"edge\">\n<title>132540606071120&#45;&gt;132540610467088*</title>\n<path fill=\"none\" stroke=\"black\" d=\"M198.37,-128.5C208.05,-128.5 217.4,-128.5 225.8,-128.5\"/>\n<polygon fill=\"black\" stroke=\"black\" points=\"225.91,-132 235.91,-128.5 225.91,-125 225.91,-132\"/>\n</g>\n<!-- 132540610469776 -->\n<g id=\"node11\" class=\"node\">\n<title>132540610469776</title>\n<polygon fill=\"none\" stroke=\"black\" points=\"328.5,-55.5 328.5,-91.5 550.5,-91.5 550.5,-55.5 328.5,-55.5\"/>\n<text text-anchor=\"middle\" x=\"355\" y=\"-69.8\" font-family=\"Times,serif\" font-size=\"14.00\">x2*w2</text>\n<polyline fill=\"none\" stroke=\"black\" points=\"381.5,-55.5 381.5,-91.5 \"/>\n<text text-anchor=\"middle\" x=\"425\" y=\"-69.8\" font-family=\"Times,serif\" font-size=\"14.00\">data 12.0000</text>\n<polyline fill=\"none\" stroke=\"black\" points=\"468.5,-55.5 468.5,-91.5 \"/>\n<text text-anchor=\"middle\" x=\"509.5\" y=\"-69.8\" font-family=\"Times,serif\" font-size=\"14.00\">grad 0.0099</text>\n</g>\n<!-- 132540610469776&#45;&gt;132540610476304+ -->\n<g id=\"edge7\" class=\"edge\">\n<title>132540610469776&#45;&gt;132540610476304+</title>\n<path fill=\"none\" stroke=\"black\" d=\"M550.52,-90.52C560.78,-92.11 570.58,-93.63 579.31,-94.98\"/>\n<polygon fill=\"black\" stroke=\"black\" points=\"578.97,-98.47 589.39,-96.54 580.04,-91.55 578.97,-98.47\"/>\n</g>\n<!-- 132540610469776*&#45;&gt;132540610469776 -->\n<g id=\"edge4\" class=\"edge\">\n<title>132540610469776*&#45;&gt;132540610469776</title>\n<path fill=\"none\" stroke=\"black\" d=\"M290.12,-73.5C298.27,-73.5 307.83,-73.5 318.13,-73.5\"/>\n<polygon fill=\"black\" stroke=\"black\" points=\"318.19,-77 328.19,-73.5 318.19,-70 318.19,-77\"/>\n</g>\n</g>\n</svg>\n",
            "text/plain": [
              "<graphviz.graphs.Digraph at 0x788b84016790>"
            ]
          },
          "metadata": {},
          "execution_count": 224
        }
      ]
    },
    {
      "cell_type": "code",
      "source": [
        "x1 = Value(5, label = 'x1')\n",
        "x2 = Value(6, label = 'x2')\n",
        "w1 = Value(-3, label = 'w1')\n",
        "w2 = Value(2, label = 'w2')\n",
        "\n",
        "x1w1 = x1*w1; x1w1.label = 'x1*w1'\n",
        "x2w2 = x2*w2; x2w2.label = 'x2*w2'\n",
        "x1w1x2w2 = x1w1 + x2w2; x1w1x2w2.label = 'x1*w1 + x2*w2'\n",
        "\n",
        "e = (2*x1w1x2w2).exp()\n",
        "n = (e-1)/(e + 1)\n",
        "\n",
        "n.backward()\n",
        "draw_dot(n)\n",
        "\n",
        "# n = x1w1x2w2.tanh(); n.label = 'tanh(x1*w1 + x2*w2)'\n",
        "# e = (2*n).exp(); e.label = 'e(2*n)'"
      ],
      "metadata": {
        "colab": {
          "base_uri": "https://localhost:8080/",
          "height": 321
        },
        "id": "qEa3_Twe2DKa",
        "outputId": "9d6a2904-df50-4a2d-aa3c-9f7f11d406d0"
      },
      "execution_count": null,
      "outputs": [
        {
          "output_type": "execute_result",
          "data": {
            "image/svg+xml": "<?xml version=\"1.0\" encoding=\"UTF-8\" standalone=\"no\"?>\n<!DOCTYPE svg PUBLIC \"-//W3C//DTD SVG 1.1//EN\"\n \"http://www.w3.org/Graphics/SVG/1.1/DTD/svg11.dtd\">\n<!-- Generated by graphviz version 2.43.0 (0)\n -->\n<!-- Title: %3 Pages: 1 -->\n<svg width=\"2652pt\" height=\"210pt\"\n viewBox=\"0.00 0.00 2652.00 210.00\" xmlns=\"http://www.w3.org/2000/svg\" xmlns:xlink=\"http://www.w3.org/1999/xlink\">\n<g id=\"graph0\" class=\"graph\" transform=\"scale(1 1) rotate(0) translate(4 206)\">\n<title>%3</title>\n<polygon fill=\"white\" stroke=\"transparent\" points=\"-4,4 -4,-206 2648,-206 2648,4 -4,4\"/>\n<!-- 132540607475792 -->\n<g id=\"node1\" class=\"node\">\n<title>132540607475792</title>\n<polygon fill=\"none\" stroke=\"black\" points=\"1393.5,-109.5 1393.5,-145.5 1575.5,-145.5 1575.5,-109.5 1393.5,-109.5\"/>\n<text text-anchor=\"middle\" x=\"1403.5\" y=\"-123.8\" font-family=\"Times,serif\" font-size=\"14.00\"> </text>\n<polyline fill=\"none\" stroke=\"black\" points=\"1413.5,-109.5 1413.5,-145.5 \"/>\n<text text-anchor=\"middle\" x=\"1453.5\" y=\"-123.8\" font-family=\"Times,serif\" font-size=\"14.00\">data 0.0025</text>\n<polyline fill=\"none\" stroke=\"black\" points=\"1493.5,-109.5 1493.5,-145.5 \"/>\n<text text-anchor=\"middle\" x=\"1534.5\" y=\"-123.8\" font-family=\"Times,serif\" font-size=\"14.00\">grad 1.9901</text>\n</g>\n<!-- 132540607277200+ -->\n<g id=\"node10\" class=\"node\">\n<title>132540607277200+</title>\n<ellipse fill=\"none\" stroke=\"black\" cx=\"1641\" cy=\"-99.5\" rx=\"27\" ry=\"18\"/>\n<text text-anchor=\"middle\" x=\"1641\" y=\"-95.8\" font-family=\"Times,serif\" font-size=\"14.00\">+</text>\n</g>\n<!-- 132540607475792&#45;&gt;132540607277200+ -->\n<g id=\"edge17\" class=\"edge\">\n<title>132540607475792&#45;&gt;132540607277200+</title>\n<path fill=\"none\" stroke=\"black\" d=\"M1575.82,-111.13C1586.07,-109.27 1596.01,-107.47 1604.88,-105.87\"/>\n<polygon fill=\"black\" stroke=\"black\" points=\"1605.54,-109.3 1614.75,-104.08 1604.29,-102.42 1605.54,-109.3\"/>\n</g>\n<!-- 132540607282960+ -->\n<g id=\"node15\" class=\"node\">\n<title>132540607282960+</title>\n<ellipse fill=\"none\" stroke=\"black\" cx=\"1641\" cy=\"-154.5\" rx=\"27\" ry=\"18\"/>\n<text text-anchor=\"middle\" x=\"1641\" y=\"-150.8\" font-family=\"Times,serif\" font-size=\"14.00\">+</text>\n</g>\n<!-- 132540607475792&#45;&gt;132540607282960+ -->\n<g id=\"edge14\" class=\"edge\">\n<title>132540607475792&#45;&gt;132540607282960+</title>\n<path fill=\"none\" stroke=\"black\" d=\"M1575.82,-143.28C1586.07,-145.08 1596.01,-146.81 1604.88,-148.36\"/>\n<polygon fill=\"black\" stroke=\"black\" points=\"1604.3,-151.81 1614.75,-150.09 1605.5,-144.92 1604.3,-151.81\"/>\n</g>\n<!-- 132540607475792exp -->\n<g id=\"node2\" class=\"node\">\n<title>132540607475792exp</title>\n<ellipse fill=\"none\" stroke=\"black\" cx=\"1328\" cy=\"-127.5\" rx=\"27\" ry=\"18\"/>\n<text text-anchor=\"middle\" x=\"1328\" y=\"-123.8\" font-family=\"Times,serif\" font-size=\"14.00\">exp</text>\n</g>\n<!-- 132540607475792exp&#45;&gt;132540607475792 -->\n<g id=\"edge1\" class=\"edge\">\n<title>132540607475792exp&#45;&gt;132540607475792</title>\n<path fill=\"none\" stroke=\"black\" d=\"M1355.21,-127.5C1363.34,-127.5 1372.85,-127.5 1382.94,-127.5\"/>\n<polygon fill=\"black\" stroke=\"black\" points=\"1383.19,-131 1393.19,-127.5 1383.19,-124 1383.19,-131\"/>\n</g>\n<!-- 132540607465040 -->\n<g id=\"node3\" class=\"node\">\n<title>132540607465040</title>\n<polygon fill=\"none\" stroke=\"black\" points=\"2,-165.5 2,-201.5 198,-201.5 198,-165.5 2,-165.5\"/>\n<text text-anchor=\"middle\" x=\"17\" y=\"-179.8\" font-family=\"Times,serif\" font-size=\"14.00\">x1</text>\n<polyline fill=\"none\" stroke=\"black\" points=\"32,-165.5 32,-201.5 \"/>\n<text text-anchor=\"middle\" x=\"72\" y=\"-179.8\" font-family=\"Times,serif\" font-size=\"14.00\">data 5.0000</text>\n<polyline fill=\"none\" stroke=\"black\" points=\"112,-165.5 112,-201.5 \"/>\n<text text-anchor=\"middle\" x=\"155\" y=\"-179.8\" font-family=\"Times,serif\" font-size=\"14.00\">grad &#45;0.0296</text>\n</g>\n<!-- 132540617227408* -->\n<g id=\"node6\" class=\"node\">\n<title>132540617227408*</title>\n<ellipse fill=\"none\" stroke=\"black\" cx=\"263\" cy=\"-128.5\" rx=\"27\" ry=\"18\"/>\n<text text-anchor=\"middle\" x=\"263\" y=\"-124.8\" font-family=\"Times,serif\" font-size=\"14.00\">*</text>\n</g>\n<!-- 132540607465040&#45;&gt;132540617227408* -->\n<g id=\"edge22\" class=\"edge\">\n<title>132540607465040&#45;&gt;132540617227408*</title>\n<path fill=\"none\" stroke=\"black\" d=\"M172.53,-165.44C181.84,-162.67 191.2,-159.67 200,-156.5 210.53,-152.71 221.75,-147.9 231.72,-143.33\"/>\n<polygon fill=\"black\" stroke=\"black\" points=\"233.25,-146.48 240.82,-139.07 230.28,-140.14 233.25,-146.48\"/>\n</g>\n<!-- 132540607476816 -->\n<g id=\"node4\" class=\"node\">\n<title>132540607476816</title>\n<polygon fill=\"none\" stroke=\"black\" points=\"2.5,-55.5 2.5,-91.5 197.5,-91.5 197.5,-55.5 2.5,-55.5\"/>\n<text text-anchor=\"middle\" x=\"19\" y=\"-69.8\" font-family=\"Times,serif\" font-size=\"14.00\">w2</text>\n<polyline fill=\"none\" stroke=\"black\" points=\"35.5,-55.5 35.5,-91.5 \"/>\n<text text-anchor=\"middle\" x=\"75.5\" y=\"-69.8\" font-family=\"Times,serif\" font-size=\"14.00\">data 2.0000</text>\n<polyline fill=\"none\" stroke=\"black\" points=\"115.5,-55.5 115.5,-91.5 \"/>\n<text text-anchor=\"middle\" x=\"156.5\" y=\"-69.8\" font-family=\"Times,serif\" font-size=\"14.00\">grad 0.0592</text>\n</g>\n<!-- 132540620756304* -->\n<g id=\"node19\" class=\"node\">\n<title>132540620756304*</title>\n<ellipse fill=\"none\" stroke=\"black\" cx=\"263\" cy=\"-73.5\" rx=\"27\" ry=\"18\"/>\n<text text-anchor=\"middle\" x=\"263\" y=\"-69.8\" font-family=\"Times,serif\" font-size=\"14.00\">*</text>\n</g>\n<!-- 132540607476816&#45;&gt;132540620756304* -->\n<g id=\"edge25\" class=\"edge\">\n<title>132540607476816&#45;&gt;132540620756304*</title>\n<path fill=\"none\" stroke=\"black\" d=\"M197.91,-73.5C207.65,-73.5 217.05,-73.5 225.52,-73.5\"/>\n<polygon fill=\"black\" stroke=\"black\" points=\"225.7,-77 235.7,-73.5 225.7,-70 225.7,-77\"/>\n</g>\n<!-- 132540617227408 -->\n<g id=\"node5\" class=\"node\">\n<title>132540617227408</title>\n<polygon fill=\"none\" stroke=\"black\" points=\"326,-110.5 326,-146.5 553,-146.5 553,-110.5 326,-110.5\"/>\n<text text-anchor=\"middle\" x=\"352.5\" y=\"-124.8\" font-family=\"Times,serif\" font-size=\"14.00\">x1*w1</text>\n<polyline fill=\"none\" stroke=\"black\" points=\"379,-110.5 379,-146.5 \"/>\n<text text-anchor=\"middle\" x=\"425\" y=\"-124.8\" font-family=\"Times,serif\" font-size=\"14.00\">data &#45;15.0000</text>\n<polyline fill=\"none\" stroke=\"black\" points=\"471,-110.5 471,-146.5 \"/>\n<text text-anchor=\"middle\" x=\"512\" y=\"-124.8\" font-family=\"Times,serif\" font-size=\"14.00\">grad 0.0099</text>\n</g>\n<!-- 132540607471056+ -->\n<g id=\"node25\" class=\"node\">\n<title>132540607471056+</title>\n<ellipse fill=\"none\" stroke=\"black\" cx=\"616\" cy=\"-100.5\" rx=\"27\" ry=\"18\"/>\n<text text-anchor=\"middle\" x=\"616\" y=\"-96.8\" font-family=\"Times,serif\" font-size=\"14.00\">+</text>\n</g>\n<!-- 132540617227408&#45;&gt;132540607471056+ -->\n<g id=\"edge12\" class=\"edge\">\n<title>132540617227408&#45;&gt;132540607471056+</title>\n<path fill=\"none\" stroke=\"black\" d=\"M552.99,-110.45C562.43,-108.93 571.45,-107.49 579.53,-106.19\"/>\n<polygon fill=\"black\" stroke=\"black\" points=\"580.26,-109.62 589.58,-104.58 579.15,-102.71 580.26,-109.62\"/>\n</g>\n<!-- 132540617227408*&#45;&gt;132540617227408 -->\n<g id=\"edge2\" class=\"edge\">\n<title>132540617227408*&#45;&gt;132540617227408</title>\n<path fill=\"none\" stroke=\"black\" d=\"M290.12,-128.5C297.67,-128.5 306.45,-128.5 315.9,-128.5\"/>\n<polygon fill=\"black\" stroke=\"black\" points=\"315.95,-132 325.95,-128.5 315.95,-125 315.95,-132\"/>\n</g>\n<!-- 132540607282832 -->\n<g id=\"node7\" class=\"node\">\n<title>132540607282832</title>\n<polygon fill=\"none\" stroke=\"black\" points=\"2145,-85.5 2145,-121.5 2331,-121.5 2331,-85.5 2145,-85.5\"/>\n<text text-anchor=\"middle\" x=\"2155\" y=\"-99.8\" font-family=\"Times,serif\" font-size=\"14.00\"> </text>\n<polyline fill=\"none\" stroke=\"black\" points=\"2165,-85.5 2165,-121.5 \"/>\n<text text-anchor=\"middle\" x=\"2205\" y=\"-99.8\" font-family=\"Times,serif\" font-size=\"14.00\">data 0.9975</text>\n<polyline fill=\"none\" stroke=\"black\" points=\"2245,-85.5 2245,-121.5 \"/>\n<text text-anchor=\"middle\" x=\"2288\" y=\"-99.8\" font-family=\"Times,serif\" font-size=\"14.00\">grad &#45;0.9975</text>\n</g>\n<!-- 132540607277328* -->\n<g id=\"node13\" class=\"node\">\n<title>132540607277328*</title>\n<ellipse fill=\"none\" stroke=\"black\" cx=\"2394\" cy=\"-126.5\" rx=\"27\" ry=\"18\"/>\n<text text-anchor=\"middle\" x=\"2394\" y=\"-122.8\" font-family=\"Times,serif\" font-size=\"14.00\">*</text>\n</g>\n<!-- 132540607282832&#45;&gt;132540607277328* -->\n<g id=\"edge23\" class=\"edge\">\n<title>132540607282832&#45;&gt;132540607277328*</title>\n<path fill=\"none\" stroke=\"black\" d=\"M2331.25,-117.28C2340.42,-118.65 2349.3,-119.97 2357.32,-121.17\"/>\n<polygon fill=\"black\" stroke=\"black\" points=\"2356.93,-124.65 2367.33,-122.67 2357.96,-117.73 2356.93,-124.65\"/>\n</g>\n<!-- 132540607282832** -->\n<g id=\"node8\" class=\"node\">\n<title>132540607282832**</title>\n<ellipse fill=\"none\" stroke=\"black\" cx=\"2015.5\" cy=\"-99.5\" rx=\"27\" ry=\"18\"/>\n<text text-anchor=\"middle\" x=\"2015.5\" y=\"-95.8\" font-family=\"Times,serif\" font-size=\"14.00\">**</text>\n</g>\n<!-- 132540607282832**&#45;&gt;132540607282832 -->\n<g id=\"edge3\" class=\"edge\">\n<title>132540607282832**&#45;&gt;132540607282832</title>\n<path fill=\"none\" stroke=\"black\" d=\"M2042.66,-99.97C2065.71,-100.39 2100.83,-101.03 2134.91,-101.65\"/>\n<polygon fill=\"black\" stroke=\"black\" points=\"2134.9,-105.15 2144.96,-101.83 2135.03,-98.15 2134.9,-105.15\"/>\n</g>\n<!-- 132540607277200 -->\n<g id=\"node9\" class=\"node\">\n<title>132540607277200</title>\n<polygon fill=\"none\" stroke=\"black\" points=\"1704,-81.5 1704,-117.5 1886,-117.5 1886,-81.5 1704,-81.5\"/>\n<text text-anchor=\"middle\" x=\"1714\" y=\"-95.8\" font-family=\"Times,serif\" font-size=\"14.00\"> </text>\n<polyline fill=\"none\" stroke=\"black\" points=\"1724,-81.5 1724,-117.5 \"/>\n<text text-anchor=\"middle\" x=\"1764\" y=\"-95.8\" font-family=\"Times,serif\" font-size=\"14.00\">data 1.0025</text>\n<polyline fill=\"none\" stroke=\"black\" points=\"1804,-81.5 1804,-117.5 \"/>\n<text text-anchor=\"middle\" x=\"1845\" y=\"-95.8\" font-family=\"Times,serif\" font-size=\"14.00\">grad 0.9926</text>\n</g>\n<!-- 132540607277200&#45;&gt;132540607282832** -->\n<g id=\"edge13\" class=\"edge\">\n<title>132540607277200&#45;&gt;132540607282832**</title>\n<path fill=\"none\" stroke=\"black\" d=\"M1886.13,-99.5C1918.43,-99.5 1953.03,-99.5 1978.16,-99.5\"/>\n<polygon fill=\"black\" stroke=\"black\" points=\"1978.32,-103 1988.32,-99.5 1978.32,-96 1978.32,-103\"/>\n</g>\n<!-- 132540607277200+&#45;&gt;132540607277200 -->\n<g id=\"edge4\" class=\"edge\">\n<title>132540607277200+&#45;&gt;132540607277200</title>\n<path fill=\"none\" stroke=\"black\" d=\"M1668.13,-99.5C1675.67,-99.5 1684.39,-99.5 1693.64,-99.5\"/>\n<polygon fill=\"black\" stroke=\"black\" points=\"1693.87,-103 1703.87,-99.5 1693.87,-96 1693.87,-103\"/>\n</g>\n<!-- 132540607477712 -->\n<g id=\"node11\" class=\"node\">\n<title>132540607477712</title>\n<polygon fill=\"none\" stroke=\"black\" points=\"4,-0.5 4,-36.5 196,-36.5 196,-0.5 4,-0.5\"/>\n<text text-anchor=\"middle\" x=\"19\" y=\"-14.8\" font-family=\"Times,serif\" font-size=\"14.00\">x2</text>\n<polyline fill=\"none\" stroke=\"black\" points=\"34,-0.5 34,-36.5 \"/>\n<text text-anchor=\"middle\" x=\"74\" y=\"-14.8\" font-family=\"Times,serif\" font-size=\"14.00\">data 6.0000</text>\n<polyline fill=\"none\" stroke=\"black\" points=\"114,-0.5 114,-36.5 \"/>\n<text text-anchor=\"middle\" x=\"155\" y=\"-14.8\" font-family=\"Times,serif\" font-size=\"14.00\">grad 0.0197</text>\n</g>\n<!-- 132540607477712&#45;&gt;132540620756304* -->\n<g id=\"edge15\" class=\"edge\">\n<title>132540607477712&#45;&gt;132540620756304*</title>\n<path fill=\"none\" stroke=\"black\" d=\"M172.53,-36.56C181.84,-39.33 191.2,-42.33 200,-45.5 210.53,-49.29 221.75,-54.1 231.72,-58.67\"/>\n<polygon fill=\"black\" stroke=\"black\" points=\"230.28,-61.86 240.82,-62.93 233.25,-55.52 230.28,-61.86\"/>\n</g>\n<!-- 132540607277328 -->\n<g id=\"node12\" class=\"node\">\n<title>132540607277328</title>\n<polygon fill=\"none\" stroke=\"black\" points=\"2457,-108.5 2457,-144.5 2644,-144.5 2644,-108.5 2457,-108.5\"/>\n<text text-anchor=\"middle\" x=\"2467\" y=\"-122.8\" font-family=\"Times,serif\" font-size=\"14.00\"> </text>\n<polyline fill=\"none\" stroke=\"black\" points=\"2477,-108.5 2477,-144.5 \"/>\n<text text-anchor=\"middle\" x=\"2519.5\" y=\"-122.8\" font-family=\"Times,serif\" font-size=\"14.00\">data &#45;0.9951</text>\n<polyline fill=\"none\" stroke=\"black\" points=\"2562,-108.5 2562,-144.5 \"/>\n<text text-anchor=\"middle\" x=\"2603\" y=\"-122.8\" font-family=\"Times,serif\" font-size=\"14.00\">grad 1.0000</text>\n</g>\n<!-- 132540607277328*&#45;&gt;132540607277328 -->\n<g id=\"edge5\" class=\"edge\">\n<title>132540607277328*&#45;&gt;132540607277328</title>\n<path fill=\"none\" stroke=\"black\" d=\"M2421.21,-126.5C2428.73,-126.5 2437.43,-126.5 2446.67,-126.5\"/>\n<polygon fill=\"black\" stroke=\"black\" points=\"2446.89,-130 2456.89,-126.5 2446.89,-123 2446.89,-130\"/>\n</g>\n<!-- 132540607282960 -->\n<g id=\"node14\" class=\"node\">\n<title>132540607282960</title>\n<polygon fill=\"none\" stroke=\"black\" points=\"1922,-136.5 1922,-172.5 2109,-172.5 2109,-136.5 1922,-136.5\"/>\n<text text-anchor=\"middle\" x=\"1932\" y=\"-150.8\" font-family=\"Times,serif\" font-size=\"14.00\"> </text>\n<polyline fill=\"none\" stroke=\"black\" points=\"1942,-136.5 1942,-172.5 \"/>\n<text text-anchor=\"middle\" x=\"1984.5\" y=\"-150.8\" font-family=\"Times,serif\" font-size=\"14.00\">data &#45;0.9975</text>\n<polyline fill=\"none\" stroke=\"black\" points=\"2027,-136.5 2027,-172.5 \"/>\n<text text-anchor=\"middle\" x=\"2068\" y=\"-150.8\" font-family=\"Times,serif\" font-size=\"14.00\">grad 0.9975</text>\n</g>\n<!-- 132540607282960&#45;&gt;132540607277328* -->\n<g id=\"edge10\" class=\"edge\">\n<title>132540607282960&#45;&gt;132540607277328*</title>\n<path fill=\"none\" stroke=\"black\" d=\"M2109.06,-147.91C2171.72,-143.41 2256.35,-137.24 2331,-131.5 2339.42,-130.85 2348.48,-130.13 2357.01,-129.45\"/>\n<polygon fill=\"black\" stroke=\"black\" points=\"2357.38,-132.93 2367.06,-128.64 2356.81,-125.95 2357.38,-132.93\"/>\n</g>\n<!-- 132540607282960+&#45;&gt;132540607282960 -->\n<g id=\"edge6\" class=\"edge\">\n<title>132540607282960+&#45;&gt;132540607282960</title>\n<path fill=\"none\" stroke=\"black\" d=\"M1668.19,-154.5C1717.95,-154.5 1828.57,-154.5 1911.49,-154.5\"/>\n<polygon fill=\"black\" stroke=\"black\" points=\"1911.71,-158 1921.71,-154.5 1911.71,-151 1911.71,-158\"/>\n</g>\n<!-- 132540607467856 -->\n<g id=\"node16\" class=\"node\">\n<title>132540607467856</title>\n<polygon fill=\"none\" stroke=\"black\" points=\"1391,-164.5 1391,-200.5 1578,-200.5 1578,-164.5 1391,-164.5\"/>\n<text text-anchor=\"middle\" x=\"1401\" y=\"-178.8\" font-family=\"Times,serif\" font-size=\"14.00\"> </text>\n<polyline fill=\"none\" stroke=\"black\" points=\"1411,-164.5 1411,-200.5 \"/>\n<text text-anchor=\"middle\" x=\"1453.5\" y=\"-178.8\" font-family=\"Times,serif\" font-size=\"14.00\">data &#45;1.0000</text>\n<polyline fill=\"none\" stroke=\"black\" points=\"1496,-164.5 1496,-200.5 \"/>\n<text text-anchor=\"middle\" x=\"1537\" y=\"-178.8\" font-family=\"Times,serif\" font-size=\"14.00\">grad 0.9975</text>\n</g>\n<!-- 132540607467856&#45;&gt;132540607282960+ -->\n<g id=\"edge20\" class=\"edge\">\n<title>132540607467856&#45;&gt;132540607282960+</title>\n<path fill=\"none\" stroke=\"black\" d=\"M1578.05,-165.73C1587.54,-164.01 1596.71,-162.35 1604.95,-160.85\"/>\n<polygon fill=\"black\" stroke=\"black\" points=\"1605.64,-164.28 1614.85,-159.06 1604.39,-157.4 1605.64,-164.28\"/>\n</g>\n<!-- 132540607463760 -->\n<g id=\"node17\" class=\"node\">\n<title>132540607463760</title>\n<polygon fill=\"none\" stroke=\"black\" points=\"0,-110.5 0,-146.5 200,-146.5 200,-110.5 0,-110.5\"/>\n<text text-anchor=\"middle\" x=\"16.5\" y=\"-124.8\" font-family=\"Times,serif\" font-size=\"14.00\">w1</text>\n<polyline fill=\"none\" stroke=\"black\" points=\"33,-110.5 33,-146.5 \"/>\n<text text-anchor=\"middle\" x=\"75.5\" y=\"-124.8\" font-family=\"Times,serif\" font-size=\"14.00\">data &#45;3.0000</text>\n<polyline fill=\"none\" stroke=\"black\" points=\"118,-110.5 118,-146.5 \"/>\n<text text-anchor=\"middle\" x=\"159\" y=\"-124.8\" font-family=\"Times,serif\" font-size=\"14.00\">grad 0.0493</text>\n</g>\n<!-- 132540607463760&#45;&gt;132540617227408* -->\n<g id=\"edge24\" class=\"edge\">\n<title>132540607463760&#45;&gt;132540617227408*</title>\n<path fill=\"none\" stroke=\"black\" d=\"M200.21,-128.5C209.2,-128.5 217.86,-128.5 225.7,-128.5\"/>\n<polygon fill=\"black\" stroke=\"black\" points=\"225.85,-132 235.85,-128.5 225.85,-125 225.85,-132\"/>\n</g>\n<!-- 132540620756304 -->\n<g id=\"node18\" class=\"node\">\n<title>132540620756304</title>\n<polygon fill=\"none\" stroke=\"black\" points=\"328.5,-55.5 328.5,-91.5 550.5,-91.5 550.5,-55.5 328.5,-55.5\"/>\n<text text-anchor=\"middle\" x=\"355\" y=\"-69.8\" font-family=\"Times,serif\" font-size=\"14.00\">x2*w2</text>\n<polyline fill=\"none\" stroke=\"black\" points=\"381.5,-55.5 381.5,-91.5 \"/>\n<text text-anchor=\"middle\" x=\"425\" y=\"-69.8\" font-family=\"Times,serif\" font-size=\"14.00\">data 12.0000</text>\n<polyline fill=\"none\" stroke=\"black\" points=\"468.5,-55.5 468.5,-91.5 \"/>\n<text text-anchor=\"middle\" x=\"509.5\" y=\"-69.8\" font-family=\"Times,serif\" font-size=\"14.00\">grad 0.0099</text>\n</g>\n<!-- 132540620756304&#45;&gt;132540607471056+ -->\n<g id=\"edge18\" class=\"edge\">\n<title>132540620756304&#45;&gt;132540607471056+</title>\n<path fill=\"none\" stroke=\"black\" d=\"M550.52,-90.52C560.78,-92.11 570.58,-93.63 579.31,-94.98\"/>\n<polygon fill=\"black\" stroke=\"black\" points=\"578.97,-98.47 589.39,-96.54 580.04,-91.55 578.97,-98.47\"/>\n</g>\n<!-- 132540620756304*&#45;&gt;132540620756304 -->\n<g id=\"edge7\" class=\"edge\">\n<title>132540620756304*&#45;&gt;132540620756304</title>\n<path fill=\"none\" stroke=\"black\" d=\"M290.12,-73.5C298.27,-73.5 307.83,-73.5 318.13,-73.5\"/>\n<polygon fill=\"black\" stroke=\"black\" points=\"318.19,-77 328.19,-73.5 318.19,-70 318.19,-77\"/>\n</g>\n<!-- 132540607276368 -->\n<g id=\"node20\" class=\"node\">\n<title>132540607276368</title>\n<polygon fill=\"none\" stroke=\"black\" points=\"1393.5,-54.5 1393.5,-90.5 1575.5,-90.5 1575.5,-54.5 1393.5,-54.5\"/>\n<text text-anchor=\"middle\" x=\"1403.5\" y=\"-68.8\" font-family=\"Times,serif\" font-size=\"14.00\"> </text>\n<polyline fill=\"none\" stroke=\"black\" points=\"1413.5,-54.5 1413.5,-90.5 \"/>\n<text text-anchor=\"middle\" x=\"1453.5\" y=\"-68.8\" font-family=\"Times,serif\" font-size=\"14.00\">data 1.0000</text>\n<polyline fill=\"none\" stroke=\"black\" points=\"1493.5,-54.5 1493.5,-90.5 \"/>\n<text text-anchor=\"middle\" x=\"1534.5\" y=\"-68.8\" font-family=\"Times,serif\" font-size=\"14.00\">grad 0.9926</text>\n</g>\n<!-- 132540607276368&#45;&gt;132540607277200+ -->\n<g id=\"edge19\" class=\"edge\">\n<title>132540607276368&#45;&gt;132540607277200+</title>\n<path fill=\"none\" stroke=\"black\" d=\"M1575.82,-88.28C1586.07,-90.08 1596.01,-91.81 1604.88,-93.36\"/>\n<polygon fill=\"black\" stroke=\"black\" points=\"1604.3,-96.81 1614.75,-95.09 1605.5,-89.92 1604.3,-96.81\"/>\n</g>\n<!-- 132540607472528 -->\n<g id=\"node21\" class=\"node\">\n<title>132540607472528</title>\n<polygon fill=\"none\" stroke=\"black\" points=\"1078,-109.5 1078,-145.5 1265,-145.5 1265,-109.5 1078,-109.5\"/>\n<text text-anchor=\"middle\" x=\"1088\" y=\"-123.8\" font-family=\"Times,serif\" font-size=\"14.00\"> </text>\n<polyline fill=\"none\" stroke=\"black\" points=\"1098,-109.5 1098,-145.5 \"/>\n<text text-anchor=\"middle\" x=\"1140.5\" y=\"-123.8\" font-family=\"Times,serif\" font-size=\"14.00\">data &#45;6.0000</text>\n<polyline fill=\"none\" stroke=\"black\" points=\"1183,-109.5 1183,-145.5 \"/>\n<text text-anchor=\"middle\" x=\"1224\" y=\"-123.8\" font-family=\"Times,serif\" font-size=\"14.00\">grad 0.0049</text>\n</g>\n<!-- 132540607472528&#45;&gt;132540607475792exp -->\n<g id=\"edge11\" class=\"edge\">\n<title>132540607472528&#45;&gt;132540607475792exp</title>\n<path fill=\"none\" stroke=\"black\" d=\"M1265.05,-127.5C1274.06,-127.5 1282.79,-127.5 1290.7,-127.5\"/>\n<polygon fill=\"black\" stroke=\"black\" points=\"1290.95,-131 1300.95,-127.5 1290.95,-124 1290.95,-131\"/>\n</g>\n<!-- 132540607472528* -->\n<g id=\"node22\" class=\"node\">\n<title>132540607472528*</title>\n<ellipse fill=\"none\" stroke=\"black\" cx=\"1015\" cy=\"-127.5\" rx=\"27\" ry=\"18\"/>\n<text text-anchor=\"middle\" x=\"1015\" y=\"-123.8\" font-family=\"Times,serif\" font-size=\"14.00\">*</text>\n</g>\n<!-- 132540607472528*&#45;&gt;132540607472528 -->\n<g id=\"edge8\" class=\"edge\">\n<title>132540607472528*&#45;&gt;132540607472528</title>\n<path fill=\"none\" stroke=\"black\" d=\"M1042.21,-127.5C1049.73,-127.5 1058.43,-127.5 1067.67,-127.5\"/>\n<polygon fill=\"black\" stroke=\"black\" points=\"1067.89,-131 1077.89,-127.5 1067.89,-124 1067.89,-131\"/>\n</g>\n<!-- 132540607479184 -->\n<g id=\"node23\" class=\"node\">\n<title>132540607479184</title>\n<polygon fill=\"none\" stroke=\"black\" points=\"722.5,-137.5 722.5,-173.5 908.5,-173.5 908.5,-137.5 722.5,-137.5\"/>\n<text text-anchor=\"middle\" x=\"732.5\" y=\"-151.8\" font-family=\"Times,serif\" font-size=\"14.00\"> </text>\n<polyline fill=\"none\" stroke=\"black\" points=\"742.5,-137.5 742.5,-173.5 \"/>\n<text text-anchor=\"middle\" x=\"782.5\" y=\"-151.8\" font-family=\"Times,serif\" font-size=\"14.00\">data 2.0000</text>\n<polyline fill=\"none\" stroke=\"black\" points=\"822.5,-137.5 822.5,-173.5 \"/>\n<text text-anchor=\"middle\" x=\"865.5\" y=\"-151.8\" font-family=\"Times,serif\" font-size=\"14.00\">grad &#45;0.0148</text>\n</g>\n<!-- 132540607479184&#45;&gt;132540607472528* -->\n<g id=\"edge21\" class=\"edge\">\n<title>132540607479184&#45;&gt;132540607472528*</title>\n<path fill=\"none\" stroke=\"black\" d=\"M908.6,-142.44C933.32,-138.94 958.6,-135.35 978.2,-132.58\"/>\n<polygon fill=\"black\" stroke=\"black\" points=\"978.78,-136.03 988.19,-131.16 977.79,-129.1 978.78,-136.03\"/>\n</g>\n<!-- 132540607471056 -->\n<g id=\"node24\" class=\"node\">\n<title>132540607471056</title>\n<polygon fill=\"none\" stroke=\"black\" points=\"679,-82.5 679,-118.5 952,-118.5 952,-82.5 679,-82.5\"/>\n<text text-anchor=\"middle\" x=\"732\" y=\"-96.8\" font-family=\"Times,serif\" font-size=\"14.00\">x1*w1 + x2*w2</text>\n<polyline fill=\"none\" stroke=\"black\" points=\"785,-82.5 785,-118.5 \"/>\n<text text-anchor=\"middle\" x=\"827.5\" y=\"-96.8\" font-family=\"Times,serif\" font-size=\"14.00\">data &#45;3.0000</text>\n<polyline fill=\"none\" stroke=\"black\" points=\"870,-82.5 870,-118.5 \"/>\n<text text-anchor=\"middle\" x=\"911\" y=\"-96.8\" font-family=\"Times,serif\" font-size=\"14.00\">grad 0.0099</text>\n</g>\n<!-- 132540607471056&#45;&gt;132540607472528* -->\n<g id=\"edge16\" class=\"edge\">\n<title>132540607471056&#45;&gt;132540607472528*</title>\n<path fill=\"none\" stroke=\"black\" d=\"M948.24,-118.51C959.12,-120 969.4,-121.4 978.45,-122.64\"/>\n<polygon fill=\"black\" stroke=\"black\" points=\"978.11,-126.13 988.49,-124.01 979.05,-119.19 978.11,-126.13\"/>\n</g>\n<!-- 132540607471056+&#45;&gt;132540607471056 -->\n<g id=\"edge9\" class=\"edge\">\n<title>132540607471056+&#45;&gt;132540607471056</title>\n<path fill=\"none\" stroke=\"black\" d=\"M643.23,-100.5C650.7,-100.5 659.41,-100.5 668.87,-100.5\"/>\n<polygon fill=\"black\" stroke=\"black\" points=\"668.98,-104 678.98,-100.5 668.98,-97 668.98,-104\"/>\n</g>\n</g>\n</svg>\n",
            "text/plain": [
              "<graphviz.graphs.Digraph at 0x788b83d0bed0>"
            ]
          },
          "metadata": {},
          "execution_count": 226
        }
      ]
    },
    {
      "cell_type": "markdown",
      "source": [
        "###Implementing Neural Network"
      ],
      "metadata": {
        "id": "jklCXYuQOHKm"
      }
    },
    {
      "cell_type": "code",
      "source": [
        "class Neuron:\n",
        "  def __init__(self, n):\n",
        "    self.w = [Value(random.uniform(-0.1,0.1)) for _ in range(n)] # Reduced initialization range\n",
        "    self.b = Value(random.uniform(-0.1,0.1)) # Reduced initialization range\n",
        "\n",
        "  def __call__(self,x):\n",
        "    act =  sum((val[0]*val[1] for val in zip(self.w,x)), self.b)\n",
        "    return act.tanh()\n",
        "\n",
        "  def parameters(self):\n",
        "    return self.w + [self.b]\n",
        "\n",
        "class Layer:\n",
        "  def __init__(self, num_input,num_output):\n",
        "    self.neurons = [Neuron(num_input) for _ in range(num_output)]\n",
        "\n",
        "  def __call__(self,x):\n",
        "    outs = [n(x) for n in self.neurons]\n",
        "    return outs[0] if len(outs) == 1 else outs\n",
        "\n",
        "  def parameters(self):\n",
        "    return [p for neuron in self.neurons for p in neuron.parameters()]\n",
        "\n",
        "class MLP:\n",
        "  def __init__(self, num_input,num_output_list):\n",
        "    temp_list = [num_input] + num_output_list\n",
        "    self.layers = [Layer(ni,no) for ni,no in zip(temp_list,temp_list[1:])]\n",
        "\n",
        "  def __call__(self,x):\n",
        "    for layer in self.layers:\n",
        "      x = layer(x)\n",
        "    return x\n",
        "\n",
        "  def parameters(self):\n",
        "    return [p for layer in self.layers for p in layer.parameters()]"
      ],
      "metadata": {
        "id": "yIx7bkBn3irf"
      },
      "execution_count": null,
      "outputs": []
    },
    {
      "cell_type": "code",
      "source": [
        "m = MLP(3,[4,4,1])\n",
        "xs = [[2.0,0.5,0.8],[0.5,2.5,-2.0],[-1.0,-2.0,2.0], [-1.0,1.0,2.0]]\n",
        "ys = [1.0,-1.0,-2.0,1.0]"
      ],
      "metadata": {
        "id": "oXn94WtfSzuA"
      },
      "execution_count": 598,
      "outputs": []
    },
    {
      "cell_type": "code",
      "source": [
        "for n in range(100):\n",
        "  ypred = [m(x) for x in xs]\n",
        "  loss = sum((yout - ygt)**2 for ygt, yout in zip(ys,ypred))\n",
        "  for param in m.parameters():\n",
        "    param.grad = 0\n",
        "  loss.backward()\n",
        "  for param in m.parameters():\n",
        "    param.data += (-0.1 * param.grad)\n",
        "\n",
        "  print(loss)"
      ],
      "metadata": {
        "colab": {
          "base_uri": "https://localhost:8080/"
        },
        "id": "Gs9qdVGbLMPS",
        "outputId": "4d37b26d-8411-4879-e545-f2db2dfc5a78"
      },
      "execution_count": 599,
      "outputs": [
        {
          "output_type": "stream",
          "name": "stdout",
          "text": [
            "Value(data=6.8412443560694)\n",
            "Value(data=6.744368815985896)\n",
            "Value(data=6.735048583378008)\n",
            "Value(data=6.726640487725043)\n",
            "Value(data=6.714590359839734)\n",
            "Value(data=6.695741447369065)\n",
            "Value(data=6.664313350353369)\n",
            "Value(data=6.60840410025871)\n",
            "Value(data=6.501974921999329)\n",
            "Value(data=6.2861602420157165)\n",
            "Value(data=5.836044332556554)\n",
            "Value(data=4.97921986946279)\n",
            "Value(data=3.731653316338085)\n",
            "Value(data=2.424043826408198)\n",
            "Value(data=2.6245592556611745)\n",
            "Value(data=6.243898547333393)\n",
            "Value(data=5.234621965533603)\n",
            "Value(data=1.2272472437737223)\n",
            "Value(data=1.1568838083383297)\n",
            "Value(data=1.1173273146985174)\n",
            "Value(data=1.0969468614564297)\n",
            "Value(data=1.082657408466721)\n",
            "Value(data=1.072034554309191)\n",
            "Value(data=1.063816439635921)\n",
            "Value(data=1.0572663604031942)\n",
            "Value(data=1.0519226687997)\n",
            "Value(data=1.047480426526259)\n",
            "Value(data=1.04372975065127)\n",
            "Value(data=1.0405213068859356)\n",
            "Value(data=1.0377458832145416)\n",
            "Value(data=1.035321738102342)\n",
            "Value(data=1.0331864644970263)\n",
            "Value(data=1.031291589295966)\n",
            "Value(data=1.02959888973136)\n",
            "Value(data=1.0280778207442554)\n",
            "Value(data=1.0267036805802072)\n",
            "Value(data=1.0254562784819405)\n",
            "Value(data=1.0243189510151478)\n",
            "Value(data=1.0232778249852548)\n",
            "Value(data=1.0223212576956968)\n",
            "Value(data=1.0214394066806252)\n",
            "Value(data=1.0206238952694613)\n",
            "Value(data=1.0198675499768)\n",
            "Value(data=1.0191641923478951)\n",
            "Value(data=1.0185084725306386)\n",
            "Value(data=1.0178957351354794)\n",
            "Value(data=1.0173219103080648)\n",
            "Value(data=1.0167834246571084)\n",
            "Value(data=1.0162771279423708)\n",
            "Value(data=1.0158002323649773)\n",
            "Value(data=1.0153502620049617)\n",
            "Value(data=1.0149250104825538)\n",
            "Value(data=1.0145225053251823)\n",
            "Value(data=1.0141409778340795)\n",
            "Value(data=1.013778837485902)\n",
            "Value(data=1.013434650093331)\n",
            "Value(data=1.0131071190966427)\n",
            "Value(data=1.0127950694753)\n",
            "Value(data=1.0124974338616652)\n",
            "Value(data=1.012213240513364)\n",
            "Value(data=1.0119416028606851)\n",
            "Value(data=1.0116817103937736)\n",
            "Value(data=1.0114328206936474)\n",
            "Value(data=1.0111942524431445)\n",
            "Value(data=1.0109653792801876)\n",
            "Value(data=1.0107456243773845)\n",
            "Value(data=1.0105344556498606)\n",
            "Value(data=1.0103313815080892)\n",
            "Value(data=1.01013594708481)\n",
            "Value(data=1.0099477308755027)\n",
            "Value(data=1.009766341740532)\n",
            "Value(data=1.0095914162243793)\n",
            "Value(data=1.0094226161535658)\n",
            "Value(data=1.0092596264800637)\n",
            "Value(data=1.0091021533414533)\n",
            "Value(data=1.0089499223128515)\n",
            "Value(data=1.0088026768288825)\n",
            "Value(data=1.0086601767567163)\n",
            "Value(data=1.00852219710358)\n",
            "Value(data=1.008388526844217)\n",
            "Value(data=1.0082589678554954)\n",
            "Value(data=1.0081333339469523)\n",
            "Value(data=1.0080114499773294)\n",
            "Value(data=1.0078931510483566)\n",
            "Value(data=1.0077782817680192)\n",
            "Value(data=1.0076666955764253)\n",
            "Value(data=1.0075582541281678)\n",
            "Value(data=1.0074528267257319)\n",
            "Value(data=1.0073502897990998)\n",
            "Value(data=1.0072505264272287)\n",
            "Value(data=1.0071534258975126)\n",
            "Value(data=1.0070588832997773)\n",
            "Value(data=1.0069667991516793)\n",
            "Value(data=1.0068770790527195)\n",
            "Value(data=1.0067896333643593)\n",
            "Value(data=1.0067043769139692)\n",
            "Value(data=1.0066212287205611)\n",
            "Value(data=1.006540111740468)\n",
            "Value(data=1.0064609526312975)\n",
            "Value(data=1.0063836815326355)\n"
          ]
        }
      ]
    },
    {
      "cell_type": "code",
      "source": [
        "ypred"
      ],
      "metadata": {
        "colab": {
          "base_uri": "https://localhost:8080/"
        },
        "id": "rJemEVg7MZsE",
        "outputId": "43a892de-6b4b-4a06-9e0d-2927d8a318bc"
      },
      "execution_count": null,
      "outputs": [
        {
          "output_type": "execute_result",
          "data": {
            "text/plain": [
              "[[Value(data=-0.0715581354991991),\n",
              "  Value(data=-0.07422404828707779),\n",
              "  Value(data=-0.052447960161407556)]]"
            ]
          },
          "metadata": {},
          "execution_count": 592
        }
      ]
    },
    {
      "cell_type": "code",
      "source": [],
      "metadata": {
        "id": "o0a5UllnUhaG"
      },
      "execution_count": null,
      "outputs": []
    }
  ]
}